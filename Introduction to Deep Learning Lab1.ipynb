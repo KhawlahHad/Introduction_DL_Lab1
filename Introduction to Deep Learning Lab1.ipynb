{
 "cells": [
  {
   "cell_type": "markdown",
   "id": "4812010e",
   "metadata": {},
   "source": [
    "# Introduction to Deep Learning\n",
    "\n",
    "## Objectives\n",
    "In this lab, you will embark on the journey of creating a ANN, DNN model tailored for predicting the total expenditure of potential consumers based on various characteristics. As a vehicle salesperson, your goal is to develop a model that can effectively estimate the overall spending potential.\n",
    "\n",
    "Your task is to build and train an ANN/DNN model using tensorflow in a Jupyter notebook.\n",
    "\n",
    "Feel Free to Explore the dataset, analyze its contents, and derive meaningful insights. Additionally, feel empowered to create insightful visualizations that enhance the understanding of the data. "
   ]
  },
  {
   "cell_type": "markdown",
   "id": "da5b7ee8",
   "metadata": {},
   "source": [
    "# Step 1: Import Libraries"
   ]
  },
  {
   "cell_type": "code",
   "execution_count": 95,
   "id": "4aa7a64f",
   "metadata": {},
   "outputs": [],
   "source": [
    "import warnings\n",
    "warnings.filterwarnings(\"ignore\")\n",
    "import pandas as pd\n",
    "import numpy as np\n",
    "import matplotlib.pyplot as plt\n",
    "from sklearn.model_selection import train_test_split\n",
    "from sklearn.preprocessing import StandardScaler\n",
    "from sklearn.metrics import accuracy_score, confusion_matrix\n",
    "from tensorflow.keras.models import Sequential\n",
    "from tensorflow.keras.layers import Dense\n",
    "from sklearn.preprocessing import QuantileTransformer, MinMaxScaler\n",
    "from sklearn.calibration import LabelEncoder\n",
    "\n",
    "\n"
   ]
  },
  {
   "cell_type": "markdown",
   "id": "2d843bfa",
   "metadata": {},
   "source": [
    "# Step 2: Load and Explore the Data"
   ]
  },
  {
   "cell_type": "code",
   "execution_count": 96,
   "id": "586083a4",
   "metadata": {},
   "outputs": [
    {
     "data": {
      "text/html": [
       "<div>\n",
       "<style scoped>\n",
       "    .dataframe tbody tr th:only-of-type {\n",
       "        vertical-align: middle;\n",
       "    }\n",
       "\n",
       "    .dataframe tbody tr th {\n",
       "        vertical-align: top;\n",
       "    }\n",
       "\n",
       "    .dataframe thead th {\n",
       "        text-align: right;\n",
       "    }\n",
       "</style>\n",
       "<table border=\"1\" class=\"dataframe\">\n",
       "  <thead>\n",
       "    <tr style=\"text-align: right;\">\n",
       "      <th></th>\n",
       "      <th>customer name</th>\n",
       "      <th>customer e-mail</th>\n",
       "      <th>country</th>\n",
       "      <th>gender</th>\n",
       "      <th>age</th>\n",
       "      <th>annual Salary</th>\n",
       "      <th>credit card debt</th>\n",
       "      <th>net worth</th>\n",
       "      <th>car purchase amount</th>\n",
       "    </tr>\n",
       "  </thead>\n",
       "  <tbody>\n",
       "    <tr>\n",
       "      <th>0</th>\n",
       "      <td>Martina Avila</td>\n",
       "      <td>cubilia.Curae.Phasellus@quisaccumsanconvallis.edu</td>\n",
       "      <td>Bulgaria</td>\n",
       "      <td>0</td>\n",
       "      <td>41.851720</td>\n",
       "      <td>62812.09301</td>\n",
       "      <td>11609.380910</td>\n",
       "      <td>238961.2505</td>\n",
       "      <td>35321.45877</td>\n",
       "    </tr>\n",
       "    <tr>\n",
       "      <th>1</th>\n",
       "      <td>Harlan Barnes</td>\n",
       "      <td>eu.dolor@diam.co.uk</td>\n",
       "      <td>Belize</td>\n",
       "      <td>0</td>\n",
       "      <td>40.870623</td>\n",
       "      <td>66646.89292</td>\n",
       "      <td>9572.957136</td>\n",
       "      <td>530973.9078</td>\n",
       "      <td>45115.52566</td>\n",
       "    </tr>\n",
       "    <tr>\n",
       "      <th>2</th>\n",
       "      <td>Naomi Rodriquez</td>\n",
       "      <td>vulputate.mauris.sagittis@ametconsectetueradip...</td>\n",
       "      <td>Algeria</td>\n",
       "      <td>1</td>\n",
       "      <td>43.152897</td>\n",
       "      <td>53798.55112</td>\n",
       "      <td>11160.355060</td>\n",
       "      <td>638467.1773</td>\n",
       "      <td>42925.70921</td>\n",
       "    </tr>\n",
       "    <tr>\n",
       "      <th>3</th>\n",
       "      <td>Jade Cunningham</td>\n",
       "      <td>malesuada@dignissim.com</td>\n",
       "      <td>Cook Islands</td>\n",
       "      <td>1</td>\n",
       "      <td>58.271369</td>\n",
       "      <td>79370.03798</td>\n",
       "      <td>14426.164850</td>\n",
       "      <td>548599.0524</td>\n",
       "      <td>67422.36313</td>\n",
       "    </tr>\n",
       "    <tr>\n",
       "      <th>4</th>\n",
       "      <td>Cedric Leach</td>\n",
       "      <td>felis.ullamcorper.viverra@egetmollislectus.net</td>\n",
       "      <td>Brazil</td>\n",
       "      <td>1</td>\n",
       "      <td>57.313749</td>\n",
       "      <td>59729.15130</td>\n",
       "      <td>5358.712177</td>\n",
       "      <td>560304.0671</td>\n",
       "      <td>55915.46248</td>\n",
       "    </tr>\n",
       "    <tr>\n",
       "      <th>...</th>\n",
       "      <td>...</td>\n",
       "      <td>...</td>\n",
       "      <td>...</td>\n",
       "      <td>...</td>\n",
       "      <td>...</td>\n",
       "      <td>...</td>\n",
       "      <td>...</td>\n",
       "      <td>...</td>\n",
       "      <td>...</td>\n",
       "    </tr>\n",
       "    <tr>\n",
       "      <th>495</th>\n",
       "      <td>Walter</td>\n",
       "      <td>ligula@Cumsociis.ca</td>\n",
       "      <td>Nepal</td>\n",
       "      <td>0</td>\n",
       "      <td>41.462515</td>\n",
       "      <td>71942.40291</td>\n",
       "      <td>6995.902524</td>\n",
       "      <td>541670.1016</td>\n",
       "      <td>48901.44342</td>\n",
       "    </tr>\n",
       "    <tr>\n",
       "      <th>496</th>\n",
       "      <td>Vanna</td>\n",
       "      <td>Cum.sociis.natoque@Sedmolestie.edu</td>\n",
       "      <td>Zimbabwe</td>\n",
       "      <td>1</td>\n",
       "      <td>37.642000</td>\n",
       "      <td>56039.49793</td>\n",
       "      <td>12301.456790</td>\n",
       "      <td>360419.0988</td>\n",
       "      <td>31491.41457</td>\n",
       "    </tr>\n",
       "    <tr>\n",
       "      <th>497</th>\n",
       "      <td>Pearl</td>\n",
       "      <td>penatibus.et@massanonante.com</td>\n",
       "      <td>Philippines</td>\n",
       "      <td>1</td>\n",
       "      <td>53.943497</td>\n",
       "      <td>68888.77805</td>\n",
       "      <td>10611.606860</td>\n",
       "      <td>764531.3203</td>\n",
       "      <td>64147.28888</td>\n",
       "    </tr>\n",
       "    <tr>\n",
       "      <th>498</th>\n",
       "      <td>Nell</td>\n",
       "      <td>Quisque.varius@arcuVivamussit.net</td>\n",
       "      <td>Botswana</td>\n",
       "      <td>1</td>\n",
       "      <td>59.160509</td>\n",
       "      <td>49811.99062</td>\n",
       "      <td>14013.034510</td>\n",
       "      <td>337826.6382</td>\n",
       "      <td>45442.15353</td>\n",
       "    </tr>\n",
       "    <tr>\n",
       "      <th>499</th>\n",
       "      <td>Marla</td>\n",
       "      <td>Camaron.marla@hotmail.com</td>\n",
       "      <td>marlal</td>\n",
       "      <td>1</td>\n",
       "      <td>46.731152</td>\n",
       "      <td>61370.67766</td>\n",
       "      <td>9391.341628</td>\n",
       "      <td>462946.4924</td>\n",
       "      <td>45107.22566</td>\n",
       "    </tr>\n",
       "  </tbody>\n",
       "</table>\n",
       "<p>500 rows × 9 columns</p>\n",
       "</div>"
      ],
      "text/plain": [
       "       customer name                                    customer e-mail  \\\n",
       "0      Martina Avila  cubilia.Curae.Phasellus@quisaccumsanconvallis.edu   \n",
       "1      Harlan Barnes                                eu.dolor@diam.co.uk   \n",
       "2    Naomi Rodriquez  vulputate.mauris.sagittis@ametconsectetueradip...   \n",
       "3    Jade Cunningham                            malesuada@dignissim.com   \n",
       "4       Cedric Leach     felis.ullamcorper.viverra@egetmollislectus.net   \n",
       "..               ...                                                ...   \n",
       "495           Walter                                ligula@Cumsociis.ca   \n",
       "496            Vanna                 Cum.sociis.natoque@Sedmolestie.edu   \n",
       "497            Pearl                      penatibus.et@massanonante.com   \n",
       "498             Nell                  Quisque.varius@arcuVivamussit.net   \n",
       "499            Marla                          Camaron.marla@hotmail.com   \n",
       "\n",
       "          country  gender        age  annual Salary  credit card debt  \\\n",
       "0        Bulgaria       0  41.851720    62812.09301      11609.380910   \n",
       "1          Belize       0  40.870623    66646.89292       9572.957136   \n",
       "2         Algeria       1  43.152897    53798.55112      11160.355060   \n",
       "3    Cook Islands       1  58.271369    79370.03798      14426.164850   \n",
       "4          Brazil       1  57.313749    59729.15130       5358.712177   \n",
       "..            ...     ...        ...            ...               ...   \n",
       "495         Nepal       0  41.462515    71942.40291       6995.902524   \n",
       "496      Zimbabwe       1  37.642000    56039.49793      12301.456790   \n",
       "497   Philippines       1  53.943497    68888.77805      10611.606860   \n",
       "498      Botswana       1  59.160509    49811.99062      14013.034510   \n",
       "499        marlal       1  46.731152    61370.67766       9391.341628   \n",
       "\n",
       "       net worth  car purchase amount  \n",
       "0    238961.2505          35321.45877  \n",
       "1    530973.9078          45115.52566  \n",
       "2    638467.1773          42925.70921  \n",
       "3    548599.0524          67422.36313  \n",
       "4    560304.0671          55915.46248  \n",
       "..           ...                  ...  \n",
       "495  541670.1016          48901.44342  \n",
       "496  360419.0988          31491.41457  \n",
       "497  764531.3203          64147.28888  \n",
       "498  337826.6382          45442.15353  \n",
       "499  462946.4924          45107.22566  \n",
       "\n",
       "[500 rows x 9 columns]"
      ]
     },
     "execution_count": 96,
     "metadata": {},
     "output_type": "execute_result"
    }
   ],
   "source": [
    "df = pd.read_csv('car_purchasing.csv', encoding='latin-1')\n",
    "df"
   ]
  },
  {
   "cell_type": "markdown",
   "id": "2d3ed46e",
   "metadata": {},
   "source": [
    "# Step 3: Data Cleaning and Preprocessing\n",
    "\n",
    "\n",
    "**Hint: You could use a `StandardScaler()` or `MinMaxScaler()`**"
   ]
  },
  {
   "cell_type": "code",
   "execution_count": 97,
   "metadata": {},
   "outputs": [
    {
     "name": "stdout",
     "output_type": "stream",
     "text": [
      "<class 'pandas.core.frame.DataFrame'>\n",
      "RangeIndex: 500 entries, 0 to 499\n",
      "Data columns (total 9 columns):\n",
      " #   Column               Non-Null Count  Dtype  \n",
      "---  ------               --------------  -----  \n",
      " 0   customer name        500 non-null    object \n",
      " 1   customer e-mail      500 non-null    object \n",
      " 2   country              500 non-null    object \n",
      " 3   gender               500 non-null    int64  \n",
      " 4   age                  500 non-null    float64\n",
      " 5   annual Salary        500 non-null    float64\n",
      " 6   credit card debt     500 non-null    float64\n",
      " 7   net worth            500 non-null    float64\n",
      " 8   car purchase amount  500 non-null    float64\n",
      "dtypes: float64(5), int64(1), object(3)\n",
      "memory usage: 35.3+ KB\n"
     ]
    }
   ],
   "source": [
    "df.info()"
   ]
  },
  {
   "cell_type": "code",
   "execution_count": 98,
   "id": "45dbe596",
   "metadata": {},
   "outputs": [],
   "source": [
    "df=df.drop(columns={'customer name', 'customer e-mail'}) "
   ]
  },
  {
   "cell_type": "code",
   "execution_count": 99,
   "metadata": {},
   "outputs": [
    {
     "data": {
      "image/png": "[encoded data removed]",
      "text/plain": [
       "<Figure size 1500x1500 with 6 Axes>"
      ]
     },
     "metadata": {},
     "output_type": "display_data"
    }
   ],
   "source": [
    "fig, axes = plt.subplots(2, 3, figsize=(15, 15))  \n",
    "for i, column in enumerate(df.select_dtypes(include=['int64','float64']).columns):\n",
    "    ax = axes[i // 3, i % 3] \n",
    "    ax.boxplot(df[column])\n",
    "    ax.set_title(f'Box Plot of {column}')\n",
    "    ax.grid(True)\n",
    "\n",
    "plt.tight_layout()\n",
    "plt.show()"
   ]
  },
  {
   "cell_type": "code",
   "execution_count": 100,
   "metadata": {},
   "outputs": [],
   "source": [
    "quantile = QuantileTransformer(output_distribution='uniform')\n",
    "X = quantile.fit_transform(df[df.columns[2:]])\n",
    "quantile.transform(X)\n",
    "df[df.columns[2:]] = pd.DataFrame(X)"
   ]
  },
  {
   "cell_type": "code",
   "execution_count": 101,
   "metadata": {},
   "outputs": [
    {
     "data": {
      "text/html": [
       "<div>\n",
       "<style scoped>\n",
       "    .dataframe tbody tr th:only-of-type {\n",
       "        vertical-align: middle;\n",
       "    }\n",
       "\n",
       "    .dataframe tbody tr th {\n",
       "        vertical-align: top;\n",
       "    }\n",
       "\n",
       "    .dataframe thead th {\n",
       "        text-align: right;\n",
       "    }\n",
       "</style>\n",
       "<table border=\"1\" class=\"dataframe\">\n",
       "  <thead>\n",
       "    <tr style=\"text-align: right;\">\n",
       "      <th></th>\n",
       "      <th>country</th>\n",
       "      <th>gender</th>\n",
       "      <th>age</th>\n",
       "      <th>annual Salary</th>\n",
       "      <th>credit card debt</th>\n",
       "      <th>net worth</th>\n",
       "      <th>car purchase amount</th>\n",
       "    </tr>\n",
       "  </thead>\n",
       "  <tbody>\n",
       "    <tr>\n",
       "      <th>0</th>\n",
       "      <td>27</td>\n",
       "      <td>0</td>\n",
       "      <td>0.284569</td>\n",
       "      <td>0.496994</td>\n",
       "      <td>0.733467</td>\n",
       "      <td>0.140281</td>\n",
       "      <td>0.184369</td>\n",
       "    </tr>\n",
       "    <tr>\n",
       "      <th>1</th>\n",
       "      <td>17</td>\n",
       "      <td>0</td>\n",
       "      <td>0.244489</td>\n",
       "      <td>0.637275</td>\n",
       "      <td>0.482966</td>\n",
       "      <td>0.701403</td>\n",
       "      <td>0.545090</td>\n",
       "    </tr>\n",
       "    <tr>\n",
       "      <th>2</th>\n",
       "      <td>1</td>\n",
       "      <td>1</td>\n",
       "      <td>0.372745</td>\n",
       "      <td>0.230461</td>\n",
       "      <td>0.673347</td>\n",
       "      <td>0.901804</td>\n",
       "      <td>0.464930</td>\n",
       "    </tr>\n",
       "    <tr>\n",
       "      <th>3</th>\n",
       "      <td>41</td>\n",
       "      <td>1</td>\n",
       "      <td>0.933868</td>\n",
       "      <td>0.937876</td>\n",
       "      <td>0.923848</td>\n",
       "      <td>0.731463</td>\n",
       "      <td>0.987976</td>\n",
       "    </tr>\n",
       "    <tr>\n",
       "      <th>4</th>\n",
       "      <td>26</td>\n",
       "      <td>1</td>\n",
       "      <td>0.919840</td>\n",
       "      <td>0.402806</td>\n",
       "      <td>0.112224</td>\n",
       "      <td>0.753507</td>\n",
       "      <td>0.859719</td>\n",
       "    </tr>\n",
       "    <tr>\n",
       "      <th>...</th>\n",
       "      <td>...</td>\n",
       "      <td>...</td>\n",
       "      <td>...</td>\n",
       "      <td>...</td>\n",
       "      <td>...</td>\n",
       "      <td>...</td>\n",
       "      <td>...</td>\n",
       "    </tr>\n",
       "    <tr>\n",
       "      <th>495</th>\n",
       "      <td>128</td>\n",
       "      <td>0</td>\n",
       "      <td>0.270541</td>\n",
       "      <td>0.805611</td>\n",
       "      <td>0.214429</td>\n",
       "      <td>0.715431</td>\n",
       "      <td>0.683367</td>\n",
       "    </tr>\n",
       "    <tr>\n",
       "      <th>496</th>\n",
       "      <td>208</td>\n",
       "      <td>1</td>\n",
       "      <td>0.140281</td>\n",
       "      <td>0.302605</td>\n",
       "      <td>0.789579</td>\n",
       "      <td>0.364729</td>\n",
       "      <td>0.126253</td>\n",
       "    </tr>\n",
       "    <tr>\n",
       "      <th>497</th>\n",
       "      <td>144</td>\n",
       "      <td>1</td>\n",
       "      <td>0.821643</td>\n",
       "      <td>0.713427</td>\n",
       "      <td>0.605210</td>\n",
       "      <td>0.965932</td>\n",
       "      <td>0.965932</td>\n",
       "    </tr>\n",
       "    <tr>\n",
       "      <th>498</th>\n",
       "      <td>24</td>\n",
       "      <td>1</td>\n",
       "      <td>0.945892</td>\n",
       "      <td>0.148297</td>\n",
       "      <td>0.899800</td>\n",
       "      <td>0.314629</td>\n",
       "      <td>0.555110</td>\n",
       "    </tr>\n",
       "    <tr>\n",
       "      <th>499</th>\n",
       "      <td>209</td>\n",
       "      <td>1</td>\n",
       "      <td>0.539078</td>\n",
       "      <td>0.448898</td>\n",
       "      <td>0.462926</td>\n",
       "      <td>0.553106</td>\n",
       "      <td>0.541082</td>\n",
       "    </tr>\n",
       "  </tbody>\n",
       "</table>\n",
       "<p>500 rows × 7 columns</p>\n",
       "</div>"
      ],
      "text/plain": [
       "     country  gender       age  annual Salary  credit card debt  net worth  \\\n",
       "0         27       0  0.284569       0.496994          0.733467   0.140281   \n",
       "1         17       0  0.244489       0.637275          0.482966   0.701403   \n",
       "2          1       1  0.372745       0.230461          0.673347   0.901804   \n",
       "3         41       1  0.933868       0.937876          0.923848   0.731463   \n",
       "4         26       1  0.919840       0.402806          0.112224   0.753507   \n",
       "..       ...     ...       ...            ...               ...        ...   \n",
       "495      128       0  0.270541       0.805611          0.214429   0.715431   \n",
       "496      208       1  0.140281       0.302605          0.789579   0.364729   \n",
       "497      144       1  0.821643       0.713427          0.605210   0.965932   \n",
       "498       24       1  0.945892       0.148297          0.899800   0.314629   \n",
       "499      209       1  0.539078       0.448898          0.462926   0.553106   \n",
       "\n",
       "     car purchase amount  \n",
       "0               0.184369  \n",
       "1               0.545090  \n",
       "2               0.464930  \n",
       "3               0.987976  \n",
       "4               0.859719  \n",
       "..                   ...  \n",
       "495             0.683367  \n",
       "496             0.126253  \n",
       "497             0.965932  \n",
       "498             0.555110  \n",
       "499             0.541082  \n",
       "\n",
       "[500 rows x 7 columns]"
      ]
     },
     "execution_count": 101,
     "metadata": {},
     "output_type": "execute_result"
    }
   ],
   "source": [
    "le = LabelEncoder()\n",
    "df['country'] = le.fit_transform(df['country'])\n",
    "\n",
    "scaler = MinMaxScaler()\n",
    "df[df.columns[2:]] = scaler.fit_transform(df[df.columns[2:]])\n",
    "\n",
    "df"
   ]
  },
  {
   "cell_type": "markdown",
   "id": "4d654aaa",
   "metadata": {},
   "source": [
    "# Step 4: Train Test Split"
   ]
  },
  {
   "cell_type": "code",
   "execution_count": 102,
   "metadata": {},
   "outputs": [],
   "source": [
    "y = df['car purchase amount']\n",
    "X = df.drop(['car purchase amount'], axis=1)"
   ]
  },
  {
   "cell_type": "code",
   "execution_count": 103,
   "id": "54687a91",
   "metadata": {},
   "outputs": [
    {
     "data": {
      "text/plain": [
       "((375, 6), (125, 6), (375,), (125,))"
      ]
     },
     "execution_count": 103,
     "metadata": {},
     "output_type": "execute_result"
    }
   ],
   "source": [
    "X_train, X_test, y_train, y_test = train_test_split(X, y, test_size = 0.25, random_state = 42)\n",
    "X_train.shape, X_test.shape, y_train.shape, y_test.shape"
   ]
  },
  {
   "cell_type": "markdown",
   "id": "db652a21",
   "metadata": {},
   "source": [
    "# Step 5: Build the Artifical Neural Network Model"
   ]
  },
  {
   "cell_type": "code",
   "execution_count": 104,
   "id": "c7612a38",
   "metadata": {},
   "outputs": [],
   "source": [
    "ann_model = Sequential()\n",
    "\n",
    "ann_model.add(Dense(32, activation='relu', input_shape=(X_train.shape[1],)))\n",
    "# model.add(Dense(32, activation='relu'))\n",
    "ann_model.add(Dense(16, activation='relu'))\n",
    "\n",
    "ann_model.add(Dense(1, activation='linear'))\n",
    "\n",
    "ann_model.compile(optimizer='adam', loss='mean_squared_error')\n"
   ]
  },
  {
   "cell_type": "markdown",
   "id": "368f070a",
   "metadata": {},
   "source": [
    "### Clarify Your Artificial Neural Network (ANN) Model, Optimization, and Loss Function Choices and justify"
   ]
  },
  {
   "cell_type": "markdown",
   "id": "1350f619",
   "metadata": {},
   "source": [
    "- **ReLU** is a good choice for hidden layers and commonly used in regression models.\n",
    "- **linear activation** is best used in the output layer of regression problems.\n",
    "- **Adam** optimizer is robust and has good performence.\n",
    "- **MSE** is suitable for regression tasks."
   ]
  },
  {
   "cell_type": "markdown",
   "id": "9d3d0afe",
   "metadata": {},
   "source": [
    "# Step 6: Train the Model\n"
   ]
  },
  {
   "cell_type": "code",
   "execution_count": 105,
   "id": "df82b416",
   "metadata": {},
   "outputs": [
    {
     "name": "stdout",
     "output_type": "stream",
     "text": [
      "Epoch 1/50\n"
     ]
    },
    {
     "name": "stdout",
     "output_type": "stream",
     "text": [
      "11/11 [==============================] - 1s 31ms/step - loss: 1341.6891 - val_loss: 780.7174\n",
      "Epoch 2/50\n",
      "11/11 [==============================] - 0s 7ms/step - loss: 467.3455 - val_loss: 185.3667\n",
      "Epoch 3/50\n",
      "11/11 [==============================] - 0s 7ms/step - loss: 78.1285 - val_loss: 12.1973\n",
      "Epoch 4/50\n",
      "11/11 [==============================] - 0s 7ms/step - loss: 3.2042 - val_loss: 2.2711\n",
      "Epoch 5/50\n",
      "11/11 [==============================] - 0s 8ms/step - loss: 4.3151 - val_loss: 3.8458\n",
      "Epoch 6/50\n",
      "11/11 [==============================] - 0s 8ms/step - loss: 1.9815 - val_loss: 0.2782\n",
      "Epoch 7/50\n",
      "11/11 [==============================] - 0s 7ms/step - loss: 0.3833 - val_loss: 0.5546\n",
      "Epoch 8/50\n",
      "11/11 [==============================] - 0s 7ms/step - loss: 0.4903 - val_loss: 0.2538\n",
      "Epoch 9/50\n",
      "11/11 [==============================] - 0s 7ms/step - loss: 0.2920 - val_loss: 0.2221\n",
      "Epoch 10/50\n",
      "11/11 [==============================] - 0s 7ms/step - loss: 0.2993 - val_loss: 0.2068\n",
      "Epoch 11/50\n",
      "11/11 [==============================] - 0s 7ms/step - loss: 0.2784 - val_loss: 0.2033\n",
      "Epoch 12/50\n",
      "11/11 [==============================] - 0s 7ms/step - loss: 0.2750 - val_loss: 0.1909\n",
      "Epoch 13/50\n",
      "11/11 [==============================] - 0s 8ms/step - loss: 0.2700 - val_loss: 0.1889\n",
      "Epoch 14/50\n",
      "11/11 [==============================] - 0s 8ms/step - loss: 0.2653 - val_loss: 0.1744\n",
      "Epoch 15/50\n",
      "11/11 [==============================] - 0s 8ms/step - loss: 0.2628 - val_loss: 0.1716\n",
      "Epoch 16/50\n",
      "11/11 [==============================] - 0s 6ms/step - loss: 0.2559 - val_loss: 0.1748\n",
      "Epoch 17/50\n",
      "11/11 [==============================] - 0s 6ms/step - loss: 0.2463 - val_loss: 0.1572\n",
      "Epoch 18/50\n",
      "11/11 [==============================] - 0s 6ms/step - loss: 0.1812 - val_loss: 0.0975\n",
      "Epoch 19/50\n",
      "11/11 [==============================] - 0s 6ms/step - loss: 0.1000 - val_loss: 0.0559\n",
      "Epoch 20/50\n",
      "11/11 [==============================] - 0s 7ms/step - loss: 0.0613 - val_loss: 0.0430\n",
      "Epoch 21/50\n",
      "11/11 [==============================] - 0s 7ms/step - loss: 0.0453 - val_loss: 0.0378\n",
      "Epoch 22/50\n",
      "11/11 [==============================] - 0s 6ms/step - loss: 0.0375 - val_loss: 0.0349\n",
      "Epoch 23/50\n",
      "11/11 [==============================] - 0s 6ms/step - loss: 0.0321 - val_loss: 0.0328\n",
      "Epoch 24/50\n",
      "11/11 [==============================] - 0s 7ms/step - loss: 0.0282 - val_loss: 0.0293\n",
      "Epoch 25/50\n",
      "11/11 [==============================] - 0s 7ms/step - loss: 0.0251 - val_loss: 0.0265\n",
      "Epoch 26/50\n",
      "11/11 [==============================] - 0s 6ms/step - loss: 0.0225 - val_loss: 0.0183\n",
      "Epoch 27/50\n",
      "11/11 [==============================] - 0s 7ms/step - loss: 0.0200 - val_loss: 0.0185\n",
      "Epoch 28/50\n",
      "11/11 [==============================] - 0s 7ms/step - loss: 0.0186 - val_loss: 0.0177\n",
      "Epoch 29/50\n",
      "11/11 [==============================] - 0s 6ms/step - loss: 0.0182 - val_loss: 0.0163\n",
      "Epoch 30/50\n",
      "11/11 [==============================] - 0s 7ms/step - loss: 0.0185 - val_loss: 0.0162\n",
      "Epoch 31/50\n",
      "11/11 [==============================] - 0s 7ms/step - loss: 0.0164 - val_loss: 0.0145\n",
      "Epoch 32/50\n",
      "11/11 [==============================] - 0s 6ms/step - loss: 0.0150 - val_loss: 0.0130\n",
      "Epoch 33/50\n",
      "11/11 [==============================] - 0s 6ms/step - loss: 0.0140 - val_loss: 0.0128\n",
      "Epoch 34/50\n",
      "11/11 [==============================] - 0s 8ms/step - loss: 0.0138 - val_loss: 0.0127\n",
      "Epoch 35/50\n",
      "11/11 [==============================] - 0s 8ms/step - loss: 0.0133 - val_loss: 0.0119\n",
      "Epoch 36/50\n",
      "11/11 [==============================] - 0s 7ms/step - loss: 0.0130 - val_loss: 0.0113\n",
      "Epoch 37/50\n",
      "11/11 [==============================] - 0s 8ms/step - loss: 0.0121 - val_loss: 0.0115\n",
      "Epoch 38/50\n",
      "11/11 [==============================] - 0s 7ms/step - loss: 0.0120 - val_loss: 0.0111\n",
      "Epoch 39/50\n",
      "11/11 [==============================] - 0s 7ms/step - loss: 0.0113 - val_loss: 0.0116\n",
      "Epoch 40/50\n",
      "11/11 [==============================] - 0s 8ms/step - loss: 0.0113 - val_loss: 0.0105\n",
      "Epoch 41/50\n",
      "11/11 [==============================] - 0s 8ms/step - loss: 0.0120 - val_loss: 0.0102\n",
      "Epoch 42/50\n",
      "11/11 [==============================] - 0s 7ms/step - loss: 0.0116 - val_loss: 0.0197\n",
      "Epoch 43/50\n",
      "11/11 [==============================] - 0s 7ms/step - loss: 0.0165 - val_loss: 0.0107\n",
      "Epoch 44/50\n",
      "11/11 [==============================] - 0s 7ms/step - loss: 0.0142 - val_loss: 0.0139\n",
      "Epoch 45/50\n",
      "11/11 [==============================] - 0s 6ms/step - loss: 0.0114 - val_loss: 0.0099\n",
      "Epoch 46/50\n",
      "11/11 [==============================] - 0s 6ms/step - loss: 0.0097 - val_loss: 0.0096\n",
      "Epoch 47/50\n",
      "11/11 [==============================] - 0s 6ms/step - loss: 0.0094 - val_loss: 0.0108\n",
      "Epoch 48/50\n",
      "11/11 [==============================] - 0s 7ms/step - loss: 0.0099 - val_loss: 0.0094\n",
      "Epoch 49/50\n",
      "11/11 [==============================] - 0s 7ms/step - loss: 0.0093 - val_loss: 0.0092\n",
      "Epoch 50/50\n",
      "11/11 [==============================] - 0s 6ms/step - loss: 0.0089 - val_loss: 0.0100\n"
     ]
    },
    {
     "data": {
      "text/plain": [
       "<keras.src.callbacks.History at 0x21a9967bdd0>"
      ]
     },
     "execution_count": 105,
     "metadata": {},
     "output_type": "execute_result"
    }
   ],
   "source": [
    "ann_model.fit(X_train, y_train, epochs=50, batch_size=32, validation_split=0.1)"
   ]
  },
  {
   "cell_type": "markdown",
   "id": "ef00d5d7",
   "metadata": {},
   "source": [
    "# Step 7: Evaluate the Model"
   ]
  },
  {
   "cell_type": "code",
   "execution_count": 106,
   "id": "15e3f605",
   "metadata": {},
   "outputs": [
    {
     "name": "stdout",
     "output_type": "stream",
     "text": [
      "4/4 [==============================] - 0s 3ms/step - loss: 0.0100\n",
      "Mean Squared Error on Test Set: 0.010020028799772263\n",
      "4/4 [==============================] - 0s 3ms/step\n"
     ]
    }
   ],
   "source": [
    "mse = ann_model.evaluate(X_test, y_test)\n",
    "print(f\"Mean Squared Error on Test Set: {mse}\")\n",
    "\n",
    "predictions = ann_model.predict(X_test)"
   ]
  },
  {
   "cell_type": "markdown",
   "id": "298936f8",
   "metadata": {},
   "source": [
    "# Step 8: Build the Deep Neural Network Model"
   ]
  },
  {
   "cell_type": "code",
   "execution_count": 107,
   "id": "7b040bf5",
   "metadata": {},
   "outputs": [],
   "source": [
    "dnn_model = Sequential()\n",
    "\n",
    "dnn_model.add(Dense(128, activation='relu', input_shape=(X_train.shape[1],)))\n",
    "dnn_model.add(Dense(64, activation='relu'))\n",
    "dnn_model.add(Dense(32, activation='relu'))\n",
    "dnn_model.add(Dense(16, activation='relu'))\n",
    "\n",
    "dnn_model.add(Dense(1, activation='linear'))\n",
    "\n",
    "dnn_model.compile(optimizer='adam', loss='mean_squared_error')"
   ]
  },
  {
   "cell_type": "markdown",
   "id": "d54d2910",
   "metadata": {},
   "source": [
    "### Clarify Your Deep Neural Network (DNN) Model, Optimization, and Loss Function Choices and justify "
   ]
  },
  {
   "cell_type": "markdown",
   "id": "5e94ee60",
   "metadata": {},
   "source": [
    "- **ReLU** is a good choice for hidden layers and commonly used in regression models.\n",
    "- **linear activation** is best used in the output layer of regression problems.\n",
    "- **Adam** optimizer is robust and has good performence.\n",
    "- **MSE** is suitable for regression tasks."
   ]
  },
  {
   "cell_type": "markdown",
   "id": "fd026668",
   "metadata": {},
   "source": [
    "# Step 9: Train the Model"
   ]
  },
  {
   "cell_type": "code",
   "execution_count": 108,
   "id": "c3132af2",
   "metadata": {},
   "outputs": [
    {
     "name": "stdout",
     "output_type": "stream",
     "text": [
      "Epoch 1/50\n",
      "11/11 [==============================] - 2s 31ms/step - loss: 1.3403 - val_loss: 0.0920\n",
      "Epoch 2/50\n",
      "11/11 [==============================] - 0s 6ms/step - loss: 0.1591 - val_loss: 0.0588\n",
      "Epoch 3/50\n",
      "11/11 [==============================] - 0s 7ms/step - loss: 0.1148 - val_loss: 0.0532\n",
      "Epoch 4/50\n",
      "11/11 [==============================] - 0s 10ms/step - loss: 0.1113 - val_loss: 0.1324\n",
      "Epoch 5/50\n",
      "11/11 [==============================] - 0s 7ms/step - loss: 0.0846 - val_loss: 0.0422\n",
      "Epoch 6/50\n",
      "11/11 [==============================] - 0s 7ms/step - loss: 0.0859 - val_loss: 0.0753\n",
      "Epoch 7/50\n",
      "11/11 [==============================] - 0s 7ms/step - loss: 0.0923 - val_loss: 0.0453\n",
      "Epoch 8/50\n",
      "11/11 [==============================] - 0s 7ms/step - loss: 0.0494 - val_loss: 0.0425\n",
      "Epoch 9/50\n",
      "11/11 [==============================] - 0s 7ms/step - loss: 0.0460 - val_loss: 0.0676\n",
      "Epoch 10/50\n",
      "11/11 [==============================] - 0s 7ms/step - loss: 0.0414 - val_loss: 0.0454\n",
      "Epoch 11/50\n",
      "11/11 [==============================] - 0s 7ms/step - loss: 0.0356 - val_loss: 0.0602\n",
      "Epoch 12/50\n",
      "11/11 [==============================] - 0s 6ms/step - loss: 0.0318 - val_loss: 0.0303\n",
      "Epoch 13/50\n",
      "11/11 [==============================] - 0s 8ms/step - loss: 0.0580 - val_loss: 0.1657\n",
      "Epoch 14/50\n",
      "11/11 [==============================] - 0s 8ms/step - loss: 0.0660 - val_loss: 0.0883\n",
      "Epoch 15/50\n",
      "11/11 [==============================] - 0s 8ms/step - loss: 0.0542 - val_loss: 0.0400\n",
      "Epoch 16/50\n",
      "11/11 [==============================] - 0s 8ms/step - loss: 0.0264 - val_loss: 0.0258\n",
      "Epoch 17/50\n",
      "11/11 [==============================] - 0s 7ms/step - loss: 0.0361 - val_loss: 0.0471\n",
      "Epoch 18/50\n",
      "11/11 [==============================] - 0s 7ms/step - loss: 0.0322 - val_loss: 0.0414\n",
      "Epoch 19/50\n",
      "11/11 [==============================] - 0s 8ms/step - loss: 0.0402 - val_loss: 0.0393\n",
      "Epoch 20/50\n",
      "11/11 [==============================] - 0s 7ms/step - loss: 0.0275 - val_loss: 0.0503\n",
      "Epoch 21/50\n",
      "11/11 [==============================] - 0s 7ms/step - loss: 0.0219 - val_loss: 0.0211\n",
      "Epoch 22/50\n",
      "11/11 [==============================] - 0s 7ms/step - loss: 0.0230 - val_loss: 0.0179\n",
      "Epoch 23/50\n",
      "11/11 [==============================] - 0s 8ms/step - loss: 0.0374 - val_loss: 0.0215\n",
      "Epoch 24/50\n",
      "11/11 [==============================] - 0s 7ms/step - loss: 0.0295 - val_loss: 0.0202\n",
      "Epoch 25/50\n",
      "11/11 [==============================] - 0s 9ms/step - loss: 0.0258 - val_loss: 0.0582\n",
      "Epoch 26/50\n",
      "11/11 [==============================] - 0s 8ms/step - loss: 0.0347 - val_loss: 0.0149\n",
      "Epoch 27/50\n",
      "11/11 [==============================] - 0s 8ms/step - loss: 0.0304 - val_loss: 0.0582\n",
      "Epoch 28/50\n",
      "11/11 [==============================] - 0s 8ms/step - loss: 0.0356 - val_loss: 0.0209\n",
      "Epoch 29/50\n",
      "11/11 [==============================] - 0s 10ms/step - loss: 0.0201 - val_loss: 0.0149\n",
      "Epoch 30/50\n",
      "11/11 [==============================] - 0s 7ms/step - loss: 0.0146 - val_loss: 0.0128\n",
      "Epoch 31/50\n",
      "11/11 [==============================] - 0s 8ms/step - loss: 0.0131 - val_loss: 0.0120\n",
      "Epoch 32/50\n",
      "11/11 [==============================] - 0s 7ms/step - loss: 0.0170 - val_loss: 0.0192\n",
      "Epoch 33/50\n",
      "11/11 [==============================] - 0s 7ms/step - loss: 0.0185 - val_loss: 0.0415\n",
      "Epoch 34/50\n",
      "11/11 [==============================] - 0s 8ms/step - loss: 0.0290 - val_loss: 0.0875\n",
      "Epoch 35/50\n",
      "11/11 [==============================] - 0s 8ms/step - loss: 0.0464 - val_loss: 0.0328\n",
      "Epoch 36/50\n",
      "11/11 [==============================] - 0s 7ms/step - loss: 0.0173 - val_loss: 0.0342\n",
      "Epoch 37/50\n",
      "11/11 [==============================] - 0s 6ms/step - loss: 0.0197 - val_loss: 0.0122\n",
      "Epoch 38/50\n",
      "11/11 [==============================] - 0s 7ms/step - loss: 0.0138 - val_loss: 0.0171\n",
      "Epoch 39/50\n",
      "11/11 [==============================] - 0s 7ms/step - loss: 0.0095 - val_loss: 0.0098\n",
      "Epoch 40/50\n",
      "11/11 [==============================] - 0s 7ms/step - loss: 0.0093 - val_loss: 0.0275\n",
      "Epoch 41/50\n",
      "11/11 [==============================] - 0s 7ms/step - loss: 0.0189 - val_loss: 0.0312\n",
      "Epoch 42/50\n",
      "11/11 [==============================] - 0s 7ms/step - loss: 0.0122 - val_loss: 0.0088\n",
      "Epoch 43/50\n",
      "11/11 [==============================] - 0s 8ms/step - loss: 0.0130 - val_loss: 0.0297\n",
      "Epoch 44/50\n",
      "11/11 [==============================] - 0s 7ms/step - loss: 0.0205 - val_loss: 0.0097\n",
      "Epoch 45/50\n",
      "11/11 [==============================] - 0s 7ms/step - loss: 0.0121 - val_loss: 0.0487\n",
      "Epoch 46/50\n",
      "11/11 [==============================] - 0s 7ms/step - loss: 0.0351 - val_loss: 0.1817\n",
      "Epoch 47/50\n",
      "11/11 [==============================] - 0s 8ms/step - loss: 0.0510 - val_loss: 0.0283\n",
      "Epoch 48/50\n",
      "11/11 [==============================] - 0s 7ms/step - loss: 0.0109 - val_loss: 0.0100\n",
      "Epoch 49/50\n",
      "11/11 [==============================] - 0s 12ms/step - loss: 0.0091 - val_loss: 0.0128\n",
      "Epoch 50/50\n",
      "11/11 [==============================] - 0s 7ms/step - loss: 0.0278 - val_loss: 0.0215\n"
     ]
    },
    {
     "data": {
      "text/plain": [
       "<keras.src.callbacks.History at 0x21a93cd7190>"
      ]
     },
     "execution_count": 108,
     "metadata": {},
     "output_type": "execute_result"
    }
   ],
   "source": [
    "dnn_model.fit(X_train, y_train, epochs=50, batch_size=32, validation_split=0.1)"
   ]
  },
  {
   "cell_type": "markdown",
   "id": "2c47aa76",
   "metadata": {},
   "source": [
    "# Step 10: Evaluate the Model"
   ]
  },
  {
   "cell_type": "code",
   "execution_count": 109,
   "id": "ff9d5311",
   "metadata": {},
   "outputs": [
    {
     "name": "stdout",
     "output_type": "stream",
     "text": [
      "4/4 [==============================] - 0s 3ms/step - loss: 0.0221\n",
      "Mean Squared Error on Test Set: 0.0221088994294405\n",
      "4/4 [==============================] - 0s 3ms/step\n"
     ]
    }
   ],
   "source": [
    "mse = dnn_model.evaluate(X_test, y_test)\n",
    "print(f\"Mean Squared Error on Test Set: {mse}\")\n",
    "\n",
    "predictions = dnn_model.predict(X_test)"
   ]
  },
  {
   "cell_type": "markdown",
   "id": "118a14bd",
   "metadata": {},
   "source": [
    "# Step 11: Evaluate and Compare Scores, Training Time, and Prediction Time of ANN/DNN Models"
   ]
  },
  {
   "cell_type": "code",
   "execution_count": 110,
   "id": "25f5e17b",
   "metadata": {},
   "outputs": [
    {
     "name": "stdout",
     "output_type": "stream",
     "text": [
      "Model 1\n",
      "4/4 [==============================] - 0s 3ms/step - loss: 0.0074\n",
      "Mean Squared Error: 0.00743161840364337\n",
      "Training Time: 4.847782135009766 seconds\n",
      "Evaluation Time: 0.12200236320495605 seconds\n",
      "---------------------------------------\n",
      "Model 2\n",
      "4/4 [==============================] - 0s 3ms/step - loss: 0.0055\n",
      "Mean Squared Error: 0.005464129615575075\n",
      "Training Time: 5.323846340179443 seconds\n",
      "Evaluation Time: 0.1241769790649414 seconds\n",
      "---------------------------------------\n"
     ]
    }
   ],
   "source": [
    "import time\n",
    "\n",
    "\n",
    "def train_and_evaluate(model, X_train, y_train, X_test, y_test):\n",
    "\n",
    "    model.compile(optimizer='adam', loss='mean_squared_error')\n",
    "\n",
    "    start_training = time.time()\n",
    "    model.fit(X_train, y_train, epochs=50, batch_size=32, validation_split=0.1, verbose=0)\n",
    "    end_training = time.time()\n",
    "\n",
    "    start_eval = time.time()\n",
    "    mse = model.evaluate(X_test, y_test)\n",
    "    end_eval = time.time()\n",
    "\n",
    "    return mse, end_training - start_training, end_eval - start_eval\n",
    "\n",
    "models = [ann_model, dnn_model]\n",
    "\n",
    "results = []\n",
    "for idx, model in enumerate(models, 1):\n",
    "    print(f\"Model {idx}\")\n",
    "    mse, train_time, eval_time = train_and_evaluate(model, X_train, y_train, X_test, y_test)\n",
    "    print(f\"Mean Squared Error: {mse}\")\n",
    "    print(f\"Training Time: {train_time} seconds\")\n",
    "    print(f\"Evaluation Time: {eval_time} seconds\")\n",
    "    print(\"---------------------------------------\")\n",
    "    results.append((idx, mse, train_time, eval_time))\n"
   ]
  }
 ],
 "metadata": {
  "kernelspec": {
   "display_name": "Python 3 (ipykernel)",
   "language": "python",
   "name": "python3"
  },
  "language_info": {
   "codemirror_mode": {
    "name": "ipython",
    "version": 3
   },
   "file_extension": ".py",
   "mimetype": "text/x-python",
   "name": "python",
   "nbconvert_exporter": "python",
   "pygments_lexer": "ipython3",
   "version": "3.11.5"
  }
 },
 "nbformat": 4,
 "nbformat_minor": 5
}
